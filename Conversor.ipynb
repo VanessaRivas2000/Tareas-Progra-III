{
  "nbformat": 4,
  "nbformat_minor": 0,
  "metadata": {
    "colab": {
      "provenance": [],
      "collapsed_sections": [],
      "authorship_tag": "ABX9TyPsuq+rGiUdwsYMNqpousUs",
      "include_colab_link": true
    },
    "kernelspec": {
      "name": "python3",
      "display_name": "Python 3"
    },
    "language_info": {
      "name": "python"
    }
  },
  "cells": [
    {
      "cell_type": "markdown",
      "metadata": {
        "id": "view-in-github",
        "colab_type": "text"
      },
      "source": [
        "<a href=\"https://colab.research.google.com/github/VanessaRivas2000/Tareas-Progra-III/blob/main/Conversor.ipynb\" target=\"_parent\"><img src=\"https://colab.research.google.com/assets/colab-badge.svg\" alt=\"Open In Colab\"/></a>"
      ]
    },
    {
      "cell_type": "code",
      "source": [
        "medidas = [\"Seleccione una Medida\", \"Pie cuadrado: 1\", \n",
        "           \"Vara cuadrada: 2\", \"Yarda cuadrada: 3\", \"Metro cuadrado: 4\", \n",
        "           \"Tareas: 5\", \"Manzanas: 6\", \"Hectarea: 7\"      \n",
        "\n",
        "]"
      ],
      "metadata": {
        "id": "jwTbZ5BkO1CQ"
      },
      "execution_count": 118,
      "outputs": []
    },
    {
      "cell_type": "code",
      "source": [
        "valores = [0.09,0.70, 0.84, 1e-6, 628.86, 100, 10000]"
      ],
      "metadata": {
        "id": "XXpKBQnnQA9v"
      },
      "execution_count": 116,
      "outputs": []
    },
    {
      "cell_type": "code",
      "source": [
        "def convertir(de, a, cantidad):\n",
        "  return valores[a] / valores[de] * cantidad\n"
      ],
      "metadata": {
        "id": "A6-XtO0vQda2"
      },
      "execution_count": 113,
      "outputs": []
    },
    {
      "cell_type": "code",
      "source": [
        "print(\"*** MENU ***\")\n",
        "print(\"SELECCIONE UNA MEDIDA\")\n",
        "print(\"1. Pie cuadrado\")\n",
        "print(\"2. Vara cuadrada\")\n",
        "print(\"3. Yarda cuadrada\")\n",
        "print(\"4. Metro cuadrado\")\n",
        "print(\"5. Tareas\")\n",
        "print(\"7. Manzanas\")\n",
        "print(\"8. Hectareas\")\n",
        "\n"
      ],
      "metadata": {
        "colab": {
          "base_uri": "https://localhost:8080/"
        },
        "id": "J4YzXCPzQjM2",
        "outputId": "a29c62e4-b4aa-4242-9432-8a847f333d00"
      },
      "execution_count": 114,
      "outputs": [
        {
          "output_type": "stream",
          "name": "stdout",
          "text": [
            "*** MENU ***\n",
            "SELECCIONE UNA MEDIDA\n",
            "1. Pie cuadrado\n",
            "2. Vara cuadrada\n",
            "3. Yarda cuadrada\n",
            "4. Metro cuadrado\n",
            "5. Tareas\n",
            "7. Manzanas\n",
            "8. Hectareas\n"
          ]
        }
      ]
    },
    {
      "cell_type": "code",
      "source": [
        "de = int(input(\"DE: \"))\n",
        "a = int(input(\"A: \"))\n",
        "cantidad = float(input(\"Cantidad: \"))\n",
        "\n",
        "print( medidas[de],  \" a \", medidas[a], \" es: \", convertir(de, a, cantidad) )"
      ],
      "metadata": {
        "colab": {
          "base_uri": "https://localhost:8080/"
        },
        "id": "TqYKZZnjQ-YW",
        "outputId": "7ee0f294-d47e-45dd-d08e-f1ebabef69c2"
      },
      "execution_count": 119,
      "outputs": [
        {
          "output_type": "stream",
          "name": "stdout",
          "text": [
            "DE: 2\n",
            "A: 5\n",
            "Cantidad: 10\n",
            "Vara cuadrada: 2  a  Tareas: 5  es:  1190.4761904761906\n"
          ]
        }
      ]
    }
  ]
}