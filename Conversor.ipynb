{
  "nbformat": 4,
  "nbformat_minor": 0,
  "metadata": {
    "colab": {
      "provenance": [],
      "collapsed_sections": [],
      "authorship_tag": "ABX9TyM3SHpNkPJ6wcgny0t4wV08",
      "include_colab_link": true
    },
    "kernelspec": {
      "name": "python3",
      "display_name": "Python 3"
    },
    "language_info": {
      "name": "python"
    }
  },
  "cells": [
    {
      "cell_type": "markdown",
      "metadata": {
        "id": "view-in-github",
        "colab_type": "text"
      },
      "source": [
        "<a href=\"https://colab.research.google.com/github/VanessaRivas2000/Tareas-Progra-III/blob/main/Conversor.ipynb\" target=\"_parent\"><img src=\"https://colab.research.google.com/assets/colab-badge.svg\" alt=\"Open In Colab\"/></a>"
      ]
    },
    {
      "cell_type": "code",
      "source": [
        "medidas = {'Numero 1' : 0.94, 'Numero 2' : 0.70, 'Numero 3': 0.84, 'Numero 4': 1e-6, 'Numero 5': 628.86, 'Numero 6': 100, 'Numero 7': 10000}\n",
        "\n",
        "valores = [0.09,0.70, 0.84, 1e-6, 628.86, 100, 10000]\n"
      ],
      "metadata": {
        "id": "jwTbZ5BkO1CQ"
      },
      "execution_count": 138,
      "outputs": []
    },
    {
      "cell_type": "code",
      "source": [
        "def convertir(de, a, cantidad):\n",
        "  return valores[a] / valores[de] * cantidad\n"
      ],
      "metadata": {
        "id": "NDwmgPPY7Gpy"
      },
      "execution_count": 134,
      "outputs": []
    },
    {
      "cell_type": "code",
      "source": [
        "print(\"*** MENU - CONVERSOR***\")\n",
        "print(\"1. Pie cuadrado\")\n",
        "print(\"2. Vara cuadrada\")\n",
        "print(\"3. Yarda cuadrada\")\n",
        "print(\"4. Metro cuadrado\")\n",
        "print(\"5. Tareas\")\n",
        "print(\"7. Manzanas\")\n",
        "print(\"8. Hectareas\")"
      ],
      "metadata": {
        "colab": {
          "base_uri": "https://localhost:8080/"
        },
        "id": "4EHvbtWw7U_C",
        "outputId": "241d7fc3-d74a-48d0-e9e7-b496e86fdbd3"
      },
      "execution_count": 148,
      "outputs": [
        {
          "output_type": "stream",
          "name": "stdout",
          "text": [
            "*** MENU - CONVERSOR***\n",
            "1. Pie cuadrado\n",
            "2. Vara cuadrada\n",
            "3. Yarda cuadrada\n",
            "4. Metro cuadrado\n",
            "5. Tareas\n",
            "7. Manzanas\n",
            "8. Hectareas\n"
          ]
        }
      ]
    },
    {
      "cell_type": "code",
      "source": [
        "\n",
        "de = int(input(\"DE: \"))\n",
        "a = int(input(\"A: \"))\n",
        "cantidad = int(input(\"Cantidad: \"))\n",
        "print(medidas[ 'Numero 1'] * cantidad)\n",
        "\n",
        "print(medidas['Numero 2'] * cantidad)\n",
        "\n",
        "print(medidas['Numero 3'] * cantidad)\n",
        "\n",
        "print(medidas['Numero 4'] * cantidad)\n",
        "\n",
        "print(medidas['Numero 5'] * cantidad)\n",
        "\n",
        "print(medidas['Numero 6'] * cantidad)\n",
        "\n",
        "print(medidas['Numero 7'] * cantidad)"
      ],
      "metadata": {
        "colab": {
          "base_uri": "https://localhost:8080/"
        },
        "id": "qNtFITDU7OkT",
        "outputId": "4ef37b64-7ea5-4ec8-98ee-f0a4db5b31ae"
      },
      "execution_count": 164,
      "outputs": [
        {
          "output_type": "stream",
          "name": "stdout",
          "text": [
            "DE: 4\n",
            "A: 1\n",
            "Cantidad: 12\n",
            "11.28\n",
            "8.399999999999999\n",
            "10.08\n",
            "1.2e-05\n",
            "7546.32\n",
            "1200\n",
            "120000\n"
          ]
        }
      ]
    },
    {
      "cell_type": "code",
      "source": [],
      "metadata": {
        "id": "KGdpznUG7gHS"
      },
      "execution_count": null,
      "outputs": []
    }
  ]
}