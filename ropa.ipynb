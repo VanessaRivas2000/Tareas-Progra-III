{
  "nbformat": 4,
  "nbformat_minor": 0,
  "metadata": {
    "colab": {
      "provenance": [],
      "collapsed_sections": [],
      "authorship_tag": "ABX9TyOl75C3HgkHMP8NLZ2Ws9Gn",
      "include_colab_link": true
    },
    "kernelspec": {
      "name": "python3",
      "display_name": "Python 3"
    },
    "language_info": {
      "name": "python"
    }
  },
  "cells": [
    {
      "cell_type": "markdown",
      "metadata": {
        "id": "view-in-github",
        "colab_type": "text"
      },
      "source": [
        "<a href=\"https://colab.research.google.com/github/VanessaRivas2000/Tareas-Progra-III/blob/main/ropa.ipynb\" target=\"_parent\"><img src=\"https://colab.research.google.com/assets/colab-badge.svg\" alt=\"Open In Colab\"/></a>"
      ]
    },
    {
      "cell_type": "code",
      "execution_count": 42,
      "metadata": {
        "id": "5IVvVIKA7xwT"
      },
      "outputs": [],
      "source": [
        "import zipfile\n",
        "import io\n",
        "import tensorflow as tf\n",
        "import math\n",
        "import tensorflow_datasets as tfds\n",
        "import cv2\n",
        "import numpy as np\n",
        "import os \n",
        "import matplotlib.pyplot as plt\n"
      ]
    },
    {
      "cell_type": "code",
      "source": [
        "dataset, metadata = tfds.load('fashion_mnist', as_supervised=True, with_info=True)\n",
        "datos_entrenamiento, datos_prueba = dataset[\"train\"], dataset[\"test\"]"
      ],
      "metadata": {
        "id": "0RqG7nvAdjcd"
      },
      "execution_count": 44,
      "outputs": []
    },
    {
      "cell_type": "code",
      "source": [
        "for img in datos_entrenamiento.take(1):\n",
        "  print(img)\n",
        "  img = img[0].numpy().reshape(1,28,28,1)\n",
        "  plt.grid(False)\n",
        "  plt.imshow(img[0, ..., 0], cmap=plt.cm.binary)"
      ],
      "metadata": {
        "id": "Qp8s7RyZeZBb"
      },
      "execution_count": null,
      "outputs": []
    },
    {
      "cell_type": "code",
      "source": [
        "numeros_letras = [\"Camistea\", \"Pantalon\", \"abrigo\", \"Vestido\", \"Sueter\", \"Sandalias\", \"Camisa\", \"Zapatos Deportivos\", \"Bolso\", \"Botas\"]"
      ],
      "metadata": {
        "id": "-FmYA0uLec-D"
      },
      "execution_count": 46,
      "outputs": []
    },
    {
      "cell_type": "code",
      "source": [
        "cantidad_numeros_entrenamiento = metadata.splits[\"train\"].num_examples\n",
        "cantidad_numeros_prueba = metadata.splits[\"test\"].num_examples\n",
        "print(\"Entrenamiento\", cantidad_numeros_entrenamiento, \"Pruebas\", cantidad_numeros_prueba)"
      ],
      "metadata": {
        "colab": {
          "base_uri": "https://localhost:8080/"
        },
        "id": "O2KWItY9ektj",
        "outputId": "ad5d88c2-a81f-4e09-ca11-34d3cfb0dd4a"
      },
      "execution_count": 47,
      "outputs": [
        {
          "output_type": "stream",
          "name": "stdout",
          "text": [
            "Entrenamiento 60000 Pruebas 10000\n"
          ]
        }
      ]
    },
    {
      "cell_type": "code",
      "source": [
        "def normalizacion(img, label):\n",
        "  img = tf.cast(img, tf.float32)\n",
        "  img /= 255 \n",
        "  return img, label"
      ],
      "metadata": {
        "id": "dfbZPwHWero6"
      },
      "execution_count": 48,
      "outputs": []
    },
    {
      "cell_type": "code",
      "source": [
        "datos_entrenamiento = datos_entrenamiento.map(normalizacion)\n",
        "datos_prueba = datos_prueba.map(normalizacion)"
      ],
      "metadata": {
        "id": "j4dqRWEce7vx"
      },
      "execution_count": 49,
      "outputs": []
    },
    {
      "cell_type": "code",
      "source": [
        "modelo = tf.keras.Sequential([\n",
        "    tf.keras.layers.Flatten(input_shape=(28,28,1)),\n",
        "    tf.keras.layers.Dense(64, activation=tf.nn.relu),\n",
        "    tf.keras.layers.Dense(64, activation=tf.nn.relu),\n",
        "    tf.keras.layers.Dense(10, activation=tf.nn.softmax)\n",
        "])"
      ],
      "metadata": {
        "id": "h9gEUBsme_lC"
      },
      "execution_count": 50,
      "outputs": []
    },
    {
      "cell_type": "code",
      "source": [
        "modelo.compile(\n",
        "    optimizer=\"adam\",\n",
        "    loss=\"sparse_categorical_crossentropy\",\n",
        "    metrics=['accuracy']\n",
        ")"
      ],
      "metadata": {
        "id": "rg3J__jfe_9T"
      },
      "execution_count": 51,
      "outputs": []
    },
    {
      "cell_type": "code",
      "source": [
        "size_lote = 32\n",
        "datos_entrenamiento = datos_entrenamiento.repeat().shuffle(cantidad_numeros_entrenamiento).batch(size_lote)\n",
        "datos_prueba= datos_prueba.repeat().shuffle(cantidad_numeros_prueba).batch(size_lote)"
      ],
      "metadata": {
        "id": "vHz9SqjTfFER"
      },
      "execution_count": 52,
      "outputs": []
    },
    {
      "cell_type": "code",
      "source": [
        "modelo.fit(datos_entrenamiento, epochs=10,\n",
        "           steps_per_epoch=math.ceil(cantidad_numeros_entrenamiento/size_lote))"
      ],
      "metadata": {
        "colab": {
          "base_uri": "https://localhost:8080/"
        },
        "id": "OvFBGivNfG85",
        "outputId": "41b94e83-0626-4262-e5e4-6c3a6a879afb"
      },
      "execution_count": 53,
      "outputs": [
        {
          "output_type": "stream",
          "name": "stdout",
          "text": [
            "Epoch 1/10\n",
            "1875/1875 [==============================] - 13s 4ms/step - loss: 0.5010 - accuracy: 0.8224\n",
            "Epoch 2/10\n",
            "1875/1875 [==============================] - 8s 4ms/step - loss: 0.3787 - accuracy: 0.8630\n",
            "Epoch 3/10\n",
            "1875/1875 [==============================] - 7s 4ms/step - loss: 0.3340 - accuracy: 0.8766\n",
            "Epoch 4/10\n",
            "1875/1875 [==============================] - 7s 4ms/step - loss: 0.3147 - accuracy: 0.8833\n",
            "Epoch 5/10\n",
            "1875/1875 [==============================] - 7s 4ms/step - loss: 0.2958 - accuracy: 0.8900\n",
            "Epoch 6/10\n",
            "1875/1875 [==============================] - 7s 4ms/step - loss: 0.2861 - accuracy: 0.8925\n",
            "Epoch 7/10\n",
            "1875/1875 [==============================] - 8s 4ms/step - loss: 0.2723 - accuracy: 0.8966\n",
            "Epoch 8/10\n",
            "1875/1875 [==============================] - 7s 4ms/step - loss: 0.2661 - accuracy: 0.9009\n",
            "Epoch 9/10\n",
            "1875/1875 [==============================] - 7s 4ms/step - loss: 0.2577 - accuracy: 0.9027\n",
            "Epoch 10/10\n",
            "1875/1875 [==============================] - 7s 4ms/step - loss: 0.2516 - accuracy: 0.9054\n"
          ]
        },
        {
          "output_type": "execute_result",
          "data": {
            "text/plain": [
              "<keras.callbacks.History at 0x7f5802cbe890>"
            ]
          },
          "metadata": {},
          "execution_count": 53
        }
      ]
    },
    {
      "cell_type": "code",
      "source": [
        "def graficar_imagen(i, predictions_array,true_labels,images):\n",
        "  predictions_array, true_labels, img = predictions_array[i],true_labels[i],images[i]\n",
        "  plt.grid(False)\n",
        "  plt.xticks([])\n",
        "  plt.yticks([])\n",
        "  plt.imshow(img[...,0],cmap=plt.cm.binary)\n",
        "\n",
        "  predicted_label = np.argmax(predictions_array)\n",
        "  print(predicted_label)\n",
        "  if predicted_label == true_labels:\n",
        "   color = 'blue'\n",
        "  #else:\n",
        "   plt.xlabel(\"Prediccion: {}\".format(numeros_letras[predicted_label]), color=color)"
      ],
      "metadata": {
        "id": "vX7fkt0afHRR"
      },
      "execution_count": 54,
      "outputs": []
    },
    {
      "cell_type": "code",
      "source": [
        "!unzip imagenes.zip"
      ],
      "metadata": {
        "colab": {
          "base_uri": "https://localhost:8080/"
        },
        "id": "c2o_qvcqfO-J",
        "outputId": "8c849a17-79f1-40f5-9d44-708117babab0"
      },
      "execution_count": 79,
      "outputs": [
        {
          "output_type": "stream",
          "name": "stdout",
          "text": [
            "Archive:  imagenes.zip\n",
            "replace imagenes/leer_imagenes/Bolso2.jpg? [y]es, [n]o, [A]ll, [N]one, [r]ename: y\n",
            "  inflating: imagenes/leer_imagenes/Bolso2.jpg  \n",
            "replace imagenes/leer_imagenes/botin.jpg? [y]es, [n]o, [A]ll, [N]one, [r]ename: y\n",
            "  inflating: imagenes/leer_imagenes/botin.jpg  \n",
            "replace imagenes/leer_imagenes/camisa.jpg? [y]es, [n]o, [A]ll, [N]one, [r]ename: y\n",
            "  inflating: imagenes/leer_imagenes/camisa.jpg  \n",
            "replace imagenes/leer_imagenes/camiseta.jpg? [y]es, [n]o, [A]ll, [N]one, [r]ename: y\n",
            "  inflating: imagenes/leer_imagenes/camiseta.jpg  \n",
            "replace imagenes/leer_imagenes/pantalon.png? [y]es, [n]o, [A]ll, [N]one, [r]ename: y\n",
            " extracting: imagenes/leer_imagenes/pantalon.png  \n",
            "replace imagenes/leer_imagenes/pull-over.jpg? [y]es, [n]o, [A]ll, [N]one, [r]ename: y\n",
            "  inflating: imagenes/leer_imagenes/pull-over.jpg  \n",
            "replace imagenes/leer_imagenes/saco.jpg? [y]es, [n]o, [A]ll, [N]one, [r]ename: y\n",
            "  inflating: imagenes/leer_imagenes/saco.jpg  \n",
            "replace imagenes/leer_imagenes/sandalia1.jpg? [y]es, [n]o, [A]ll, [N]one, [r]ename: y\n",
            "  inflating: imagenes/leer_imagenes/sandalia1.jpg  \n",
            "replace imagenes/leer_imagenes/vestido.jpg? [y]es, [n]o, [A]ll, [N]one, [r]ename: y\n",
            "  inflating: imagenes/leer_imagenes/vestido.jpg  \n",
            "replace imagenes/leer_imagenes/zapatilla.jpg? [y]es, [n]o, [A]ll, [N]one, [r]ename: y\n",
            "  inflating: imagenes/leer_imagenes/zapatilla.jpg  \n"
          ]
        }
      ]
    },
    {
      "cell_type": "code",
      "source": [
        "!unzip Ropa.zip"
      ],
      "metadata": {
        "colab": {
          "base_uri": "https://localhost:8080/"
        },
        "id": "EifiO-rRhYtH",
        "outputId": "0312f836-56a0-497e-ef44-4d52e543309d"
      },
      "execution_count": 65,
      "outputs": [
        {
          "output_type": "stream",
          "name": "stdout",
          "text": [
            "Archive:  Ropa.zip\n",
            "replace Ropa/Camisa.png? [y]es, [n]o, [A]ll, [N]one, [r]ename: y\n",
            " extracting: Ropa/Camisa.png         \n",
            "replace Ropa/Lentes.png? [y]es, [n]o, [A]ll, [N]one, [r]ename: y\n",
            " extracting: Ropa/Lentes.png         \n",
            "replace Ropa/Mochila.png? [y]es, [n]o, [A]ll, [N]one, [r]ename: y\n",
            " extracting: Ropa/Mochila.png        \n",
            "replace Ropa/Pantalon.png? [y]es, [n]o, [A]ll, [N]one, [r]ename: y\n",
            " extracting: Ropa/Pantalon.png       \n",
            "replace Ropa/Sandalia.png? [y]es, [n]o, [A]ll, [N]one, [r]ename: y\n",
            " extracting: Ropa/Sandalia.png       \n",
            "replace Ropa/Sudadera.png? [y]es, [n]o, [A]ll, [N]one, [r]ename: y\n",
            " extracting: Ropa/Sudadera.png       \n",
            "replace Ropa/Sueter.png? [y]es, [n]o, [A]ll, [N]one, [r]ename: y\n",
            " extracting: Ropa/Sueter.png         \n",
            "replace Ropa/Tacon.png? [y]es, [n]o, [A]ll, [N]one, [r]ename: y\n",
            " extracting: Ropa/Tacon.png          \n",
            "replace Ropa/Vestido.png? [y]es, [n]o, [A]ll, [N]one, [r]ename: y\n",
            " extracting: Ropa/Vestido.png        \n",
            "replace Ropa/Zapatilla.png? [y]es, [n]o, [A]ll, [N]one, [r]ename: y\n",
            " extracting: Ropa/Zapatilla.png      \n"
          ]
        }
      ]
    },
    {
      "cell_type": "code",
      "source": [
        "for imagenes_prueba, etiquetas_prueba in datos_prueba.take(1):\n",
        "  imagenes_prueba = imagenes_prueba.numpy()\n",
        "  etiquetas_prueba = etiquetas_prueba.numpy()\n",
        "  predicciones = modelo.predict(imagenes_prueba)"
      ],
      "metadata": {
        "id": "EY7SqqeMf8xw"
      },
      "execution_count": 80,
      "outputs": []
    },
    {
      "cell_type": "code",
      "source": [
        "def graficar_valores_array(i, predictions_array, true_label):\n",
        "  predictions_array, true_label = predictions_array[i],true_label[i]\n",
        "  plt.grid(False)\n",
        "  plt.xticks([])\n",
        "  plt.yticks([])\n",
        "  thisplot = plt.bar(range(10), predictions_array, color=\"#888888\")\n",
        "  plt.ylim([0,1])\n",
        "  predicted_label = np.argmax(predictions_array)\n",
        "  plt.ylim([0,1])\n",
        "  predicted_label = np.argmax(predictions_array)\n",
        "\n",
        "  thisplot[predicted_label].set_color('red')\n",
        "  thisplot[true_label].set_color('blue')"
      ],
      "metadata": {
        "id": "cEwWFFKggAkJ"
      },
      "execution_count": 81,
      "outputs": []
    },
    {
      "cell_type": "code",
      "source": [
        "numrows=5\n",
        "numcols=3\n",
        "numimages = numrows*numcols"
      ],
      "metadata": {
        "id": "Jx-w3zmQgA6B"
      },
      "execution_count": 95,
      "outputs": []
    },
    {
      "cell_type": "code",
      "source": [
        "plt.figure(figsize=(2*2*numcols,2*numrows))\n",
        "for i in range(numimages):\n",
        "  plt.subplot(numrows,  2*numcols,  2*i+1)\n",
        "  graficar_imagen(i, predicciones, etiquetas_prueba, imagenes_prueba)\n",
        "  plt.subplot(numrows, 2*numcols,2*i+2)\n",
        "  graficar_valores_array(i,predicciones,etiquetas_prueba)\n",
        "\n",
        "\n",
        "plt.show()"
      ],
      "metadata": {
        "colab": {
          "base_uri": "https://localhost:8080/",
          "height": 782
        },
        "id": "OFnTk5mfgJVH",
        "outputId": "79fcc8c7-caaa-44af-aa46-f5c533e0b315"
      },
      "execution_count": 96,
      "outputs": [
        {
          "output_type": "stream",
          "name": "stdout",
          "text": [
            "0\n",
            "7\n",
            "2\n",
            "3\n",
            "7\n",
            "0\n",
            "9\n",
            "8\n",
            "2\n",
            "0\n",
            "5\n",
            "6\n",
            "7\n",
            "8\n",
            "4\n"
          ]
        },
        {
          "output_type": "display_data",
          "data": {
            "text/plain": [
              "<Figure size 864x720 with 30 Axes>"
            ],
            "image/png": "[encoded data removed]"
          },
          "metadata": {}
        }
      ]
    },
    {
      "cell_type": "code",
      "source": [
        "import cv2"
      ],
      "metadata": {
        "id": "35cqdNNIjUcK"
      },
      "execution_count": 70,
      "outputs": []
    },
    {
      "cell_type": "code",
      "source": [
        "datos = [\"/content/Ropa/Camisa.png\", \"/content/Ropa/Lentes.png\", \"/content/Ropa/Mochila.png\", \"/content/Ropa/Pantalon.png\", \"/content/Ropa/Sandalia.png\", \"/content/Ropa/Sudadera.png\", \"/content/Ropa/Sueter.png\", \"/content/Ropa/Tacon.png\", \"/content/Ropa/Vestido.png\", \"/content/Ropa/Zapatilla.png\"]\n",
        "plt.figure(figsize=(2*2*numcols, 2*numrows))\n",
        "for indice in range(10):\n",
        "\n",
        "  plt.subplot(numrows, 2*numcols,  2*indice+1)\n",
        "  imagenn=cv2.imread(datos[indice],cv2.IMREAD_GRAYSCALE)\n",
        "  plt.subplot(numrows, 2*numcols,2*indice+1)\n",
        "  plt.xticks([])\n",
        "  plt.yticks([])\n",
        "  imagenn=cv2.resize(imagenn,(28,28))\n",
        "  img_predic=modelo.predict(imagenn.reshape(1,28,28,1))\n",
        "\n",
        "  valor_prediccion=np.argmax(img_predic)\n",
        "  plt.imshow(imagenn,cmap=plt.cm.binary)\n",
        "  plt.xlabel(\"Prediccion: {}\".format(numeros_letras[valor_prediccion]),color=\"red\")\n",
        "\n",
        "plt.show\n"
      ],
      "metadata": {
        "colab": {
          "base_uri": "https://localhost:8080/",
          "height": 548
        },
        "id": "mpnfGl7ljXMc",
        "outputId": "5df7bde7-e72c-42bd-e3e9-5b0bbb2fcaba"
      },
      "execution_count": 100,
      "outputs": [
        {
          "output_type": "stream",
          "name": "stderr",
          "text": [
            "/usr/local/lib/python3.7/dist-packages/ipykernel_launcher.py:7: MatplotlibDeprecationWarning: Adding an axes using the same arguments as a previous axes currently reuses the earlier instance.  In a future version, a new instance will always be created and returned.  Meanwhile, this warning can be suppressed, and the future behavior ensured, by passing a unique label to each axes instance.\n",
            "  import sys\n"
          ]
        },
        {
          "output_type": "execute_result",
          "data": {
            "text/plain": [
              "<function matplotlib.pyplot.show(*args, **kw)>"
            ]
          },
          "metadata": {},
          "execution_count": 100
        },
        {
          "output_type": "display_data",
          "data": {
            "text/plain": [
              "<Figure size 864x720 with 10 Axes>"
            ],
            "image/png": "[encoded data removed]"
          },
          "metadata": {}
        }
      ]
    }
  ]
}