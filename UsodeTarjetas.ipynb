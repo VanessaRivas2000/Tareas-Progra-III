{
  "nbformat": 4,
  "nbformat_minor": 0,
  "metadata": {
    "colab": {
      "provenance": [],
      "collapsed_sections": [],
      "authorship_tag": "ABX9TyNFsZlvFSP4ZRy2IdxDUAnd",
      "include_colab_link": true
    },
    "kernelspec": {
      "name": "python3",
      "display_name": "Python 3"
    },
    "language_info": {
      "name": "python"
    }
  },
  "cells": [
    {
      "cell_type": "markdown",
      "metadata": {
        "id": "view-in-github",
        "colab_type": "text"
      },
      "source": [
        "<a href=\"https://colab.research.google.com/github/VanessaRivas2000/Tareas-Progra-III/blob/main/UsodeTarjetas.ipynb\" target=\"_parent\"><img src=\"https://colab.research.google.com/assets/colab-badge.svg\" alt=\"Open In Colab\"/></a>"
      ]
    },
    {
      "cell_type": "code",
      "source": [
        "# Tarea semana #8-9\n",
        "# Ana Carolina Guevara Rodríguez - USIS037621 Franklin Stanley Larin Saravia - USIS002421 Jacqueline Vanessa Rivas Araujo - USIS019521"
      ],
      "metadata": {
        "id": "FxAg8wFvb_s-"
      },
      "execution_count": null,
      "outputs": []
    },
    {
      "cell_type": "code",
      "source": [
        "!pip install pandas"
      ],
      "metadata": {
        "colab": {
          "base_uri": "https://localhost:8080/"
        },
        "id": "bOhu_vFO824H",
        "outputId": "2e1286ce-131a-415f-ed3d-6d27e92d153f"
      },
      "execution_count": null,
      "outputs": [
        {
          "output_type": "stream",
          "name": "stdout",
          "text": [
            "Looking in indexes: https://pypi.org/simple, https://us-python.pkg.dev/colab-wheels/public/simple/\n",
            "Requirement already satisfied: pandas in /usr/local/lib/python3.7/dist-packages (1.3.5)\n",
            "Requirement already satisfied: pytz>=2017.3 in /usr/local/lib/python3.7/dist-packages (from pandas) (2022.2.1)\n",
            "Requirement already satisfied: numpy>=1.17.3 in /usr/local/lib/python3.7/dist-packages (from pandas) (1.21.6)\n",
            "Requirement already satisfied: python-dateutil>=2.7.3 in /usr/local/lib/python3.7/dist-packages (from pandas) (2.8.2)\n",
            "Requirement already satisfied: six>=1.5 in /usr/local/lib/python3.7/dist-packages (from python-dateutil>=2.7.3->pandas) (1.15.0)\n"
          ]
        }
      ]
    },
    {
      "cell_type": "code",
      "execution_count": null,
      "metadata": {
        "id": "0-0cLUB9M0n5"
      },
      "outputs": [],
      "source": [
        "import pandas as pd\n",
        "import matplotlib.pyplot as plt\n"
      ]
    },
    {
      "cell_type": "code",
      "source": [
        "TarjetasCredito = pd.read_csv(\"/content/TarjetasCredito.csv\", sep = \";\")\n",
        "print(TarjetasCredito)\n",
        "\n"
      ],
      "metadata": {
        "colab": {
          "base_uri": "https://localhost:8080/"
        },
        "id": "PA5sDTMB70Cv",
        "outputId": "79acafa0-9f17-4845-e95e-9337dc38e032"
      },
      "execution_count": null,
      "outputs": [
        {
          "output_type": "stream",
          "name": "stdout",
          "text": [
            "       Unnamed: 0                   City       Date Card Type Exp Type Gender  \\\n",
            "0               1           Delhi, India  29-oct-14      Gold    Bills      F   \n",
            "1               2       Bengaluru, India   5-may-15      Gold    Bills      F   \n",
            "2               3           Delhi, India  24-feb-15      Gold    Bills      F   \n",
            "3               4  Greater Mumbai, India   7-Aug-14      Gold    Bills      F   \n",
            "4               5  Greater Mumbai, India  30-mar-15      Gold    Bills      F   \n",
            "...           ...                    ...        ...       ...      ...    ...   \n",
            "26048       26049         Kolkata, India  13-jun-14    Silver   Travel      M   \n",
            "26049       26050         Lucknow, India  20-jul-14    Silver   Travel      M   \n",
            "26050       26051       Hyderabad, India  15-Jan-15    Silver   Travel      M   \n",
            "26051       26052       Hyderabad, India  16-Jan-15    Silver   Travel      M   \n",
            "26052       26053          Kanpur, India  14-sep-14    Silver   Travel      M   \n",
            "\n",
            "       Amount  \n",
            "0       82475  \n",
            "1      171574  \n",
            "2      143250  \n",
            "3       19226  \n",
            "4      986379  \n",
            "...       ...  \n",
            "26048  183853  \n",
            "26049  123503  \n",
            "26050  194550  \n",
            "26051  265019  \n",
            "26052   88174  \n",
            "\n",
            "[26053 rows x 7 columns]\n"
          ]
        }
      ]
    },
    {
      "cell_type": "code",
      "source": [
        "# Uso de tarjetas por genero"
      ],
      "metadata": {
        "id": "yiHidLg87z_d"
      },
      "execution_count": null,
      "outputs": []
    },
    {
      "cell_type": "code",
      "source": [
        "genero = pd.crosstab(index = TarjetasCredito[\"Gender\"], columns = \"Fr\")\n",
        "\n",
        "print(genero)"
      ],
      "metadata": {
        "colab": {
          "base_uri": "https://localhost:8080/"
        },
        "id": "HXsOVUGr91Rg",
        "outputId": "22fa14d3-2751-401a-d294-c88ead316a6a"
      },
      "execution_count": null,
      "outputs": [
        {
          "output_type": "stream",
          "name": "stdout",
          "text": [
            "col_0      Fr\n",
            "Gender       \n",
            "F       13681\n",
            "M       12372\n"
          ]
        }
      ]
    },
    {
      "cell_type": "code",
      "source": [
        "genero = pd.crosstab(index = TarjetasCredito [\"Gender\"], columns = \"fr\")\n",
        "plt.pie(genero, labels = genero.index,autopct=\"%0.1f %%\")\n",
        "plt.xlabel(\"Tarjetas por género\")\n",
        "plt.axis(\"equal\")\n",
        "plt.show()\n",
        "genero.to_csv(\"/content/genero.csv\")"
      ],
      "metadata": {
        "colab": {
          "base_uri": "https://localhost:8080/",
          "height": 322
        },
        "id": "QoH7phWPB5v0",
        "outputId": "d0970d9f-08a9-47f1-85c2-dfe72bc76ad0"
      },
      "execution_count": null,
      "outputs": [
        {
          "output_type": "stream",
          "name": "stderr",
          "text": [
            "/usr/local/lib/python3.7/dist-packages/ipykernel_launcher.py:2: MatplotlibDeprecationWarning: Non-1D inputs to pie() are currently squeeze()d, but this behavior is deprecated since 3.1 and will be removed in 3.3; pass a 1D array instead.\n",
            "  \n"
          ]
        },
        {
          "output_type": "display_data",
          "data": {
            "text/plain": [
              "<Figure size 432x288 with 1 Axes>"
            ],
            "image/png": "[encoded data removed]"
          },
          "metadata": {}
        }
      ]
    },
    {
      "cell_type": "code",
      "source": [
        "print(TarjetasCredito.groupby(by = [\"Card Type\"]).sum())"
      ],
      "metadata": {
        "colab": {
          "base_uri": "https://localhost:8080/"
        },
        "id": "DwZWO5csMejm",
        "outputId": "2143fdf3-5e32-4bbb-cea1-25fe7e10c932"
      },
      "execution_count": null,
      "outputs": [
        {
          "output_type": "stream",
          "name": "stdout",
          "text": [
            "           Unnamed: 0      Amount\n",
            "Card Type                        \n",
            "Gold         20272528   984539536\n",
            "Platinum     61219233  1007646395\n",
            "Signature   103087530  1013041105\n",
            "Silver      154813140  1069613713\n"
          ]
        }
      ]
    },
    {
      "cell_type": "code",
      "source": [
        "tipo = pd.crosstab (index = tarjetascredito [\"Card Type\"], columns = \"fr\")\n",
        "plt.scatter(tipo.index, tipo )\n",
        "plt.plot(tipo.index, tipo)\n",
        "plt.xlabel(\"Tipo de tarjetas en uso\")\n",
        "plt.show()\n",
        "tipo.to_csv(\"/content/tipo.csv\")"
      ],
      "metadata": {
        "id": "NK-5BU4DMnFL"
      },
      "execution_count": null,
      "outputs": []
    },
    {
      "cell_type": "code",
      "source": [
        "print(TarjetasCredito.groupby(by = [\"Exp Type\"]).sum().groupby(level = [0]).cumsum())"
      ],
      "metadata": {
        "colab": {
          "base_uri": "https://localhost:8080/"
        },
        "id": "9eq3ynZ0MqVQ",
        "outputId": "c1a0e4de-9658-4db7-bee4-6c33ebdb139b"
      },
      "execution_count": null,
      "outputs": [
        {
          "output_type": "stream",
          "name": "stdout",
          "text": [
            "               Unnamed: 0     Amount\n",
            "Exp Type                            \n",
            "Bills            64975636  907072473\n",
            "Entertainment    62934397  726437536\n",
            "Food             70141008  824724009\n",
            "Fuel             67649627  789143197\n",
            "Grocery          63447188  718207923\n",
            "Travel           10244575  109255611\n"
          ]
        }
      ]
    },
    {
      "cell_type": "code",
      "source": [
        "from matplotlib import colorbar\n",
        "tarjetas=pd.DataFrame(TarjetasCredito.groupby(by=[\"Exp Type\"])[\"Amount\"].sum())\n",
        "tarjetas=tarjetas.sort_values(by='Amount', ascending=False)\n",
        "listatipoGasto=['Bills','Entertainment','Food','Fuel','Grocery','Travel']\n",
        "colores= ('purple', 'red', 'cyan', 'black', 'grey', 'pink')\n",
        "plt.bar(listatipoGasto, tarjetas['Amount'], color=colores)\n",
        "plt.xlabel(\"Tipos de uso de las tarjetas\")\n",
        "colorbar=[]\n",
        "plt.show()\n",
        "tarjetas.to_csv(\"/content/tarjetas.csv\")"
      ],
      "metadata": {
        "colab": {
          "base_uri": "https://localhost:8080/",
          "height": 290
        },
        "id": "1T70OwlvMtYe",
        "outputId": "6f508733-1479-4429-dac7-6d497728e8b1"
      },
      "execution_count": null,
      "outputs": [
        {
          "output_type": "display_data",
          "data": {
            "text/plain": [
              "<Figure size 432x288 with 1 Axes>"
            ],
            "image/png": "[encoded data removed]"
          },
          "metadata": {
            "needs_background": "light"
          }
        }
      ]
    },
    {
      "cell_type": "code",
      "source": [
        "print(TarjetasCredito.groupby(by = [\"City\"]).sum())"
      ],
      "metadata": {
        "id": "b5d8crMGMxP_"
      },
      "execution_count": null,
      "outputs": []
    },
    {
      "cell_type": "code",
      "source": [
        " gastosxtipo=pd.DataFrame(TarjetasCredito.groupby(by=[\"City\",\"Exp Type\"])[\"Amount\"].sum())\n",
        "ciudades_con_menos_gastos=gastosxtipo.sort_values(by='Amount', ascending=False)\n",
        "gastosxtipo=gastosxtipo.head(7)\n",
        "plt.pie(gastosxtipo, labels = gastosxtipo.index)\n",
        "plt.xlabel(\"Gastos por ciudad\")\n",
        "plt.show()\n",
        "gastosxtipo.to_csv(\"/content/ciudad.csv\")"
      ],
      "metadata": {
        "id": "9ef5kd2rMz5A",
        "colab": {
          "base_uri": "https://localhost:8080/",
          "height": 317
        },
        "outputId": "6ba8e991-f104-4214-f311-bb06fc1d477e"
      },
      "execution_count": null,
      "outputs": [
        {
          "output_type": "stream",
          "name": "stderr",
          "text": [
            "/usr/local/lib/python3.7/dist-packages/ipykernel_launcher.py:4: MatplotlibDeprecationWarning: Non-1D inputs to pie() are currently squeeze()d, but this behavior is deprecated since 3.1 and will be removed in 3.3; pass a 1D array instead.\n",
            "  after removing the cwd from sys.path.\n"
          ]
        },
        {
          "output_type": "display_data",
          "data": {
            "text/plain": [
              "<Figure size 432x288 with 1 Axes>"
            ],
            "image/png": "[encoded data removed]"
          },
          "metadata": {}
        }
      ]
    }
  ]
}