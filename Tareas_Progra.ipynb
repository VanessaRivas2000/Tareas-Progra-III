{
  "nbformat": 4,
  "nbformat_minor": 0,
  "metadata": {
    "colab": {
      "name": "Tareas-Progra.ipynb",
      "provenance": [],
      "collapsed_sections": [],
      "authorship_tag": "ABX9TyNOdC3zu3r8JqN2m9ttkOK+",
      "include_colab_link": true
    },
    "kernelspec": {
      "name": "python3",
      "display_name": "Python 3"
    },
    "language_info": {
      "name": "python"
    }
  },
  "cells": [
    {
      "cell_type": "markdown",
      "metadata": {
        "id": "view-in-github",
        "colab_type": "text"
      },
      "source": [
        "<a href=\"https://colab.research.google.com/github/VanessaRivas2000/Tareas-Progra-III/blob/main/Tareas_Progra.ipynb\" target=\"_parent\"><img src=\"https://colab.research.google.com/assets/colab-badge.svg\" alt=\"Open In Colab\"/></a>"
      ]
    },
    {
      "cell_type": "code",
      "execution_count": null,
      "metadata": {
        "id": "H5Kwy1eZGgME"
      },
      "outputs": [],
      "source": [
        "  #TAREA 1: Semana 4\n",
        "  \n",
        "# * Hacer un algoritmo en python que convierta de grados Celsius a Kelvin y viceversa, usando funciones de usuario y lambda.\n",
        "\n",
        "# * Hacer un algoritmo en python que encuentre la Nota Final de Ciclo de una Materia en Particular usando funciones de usuario y lambda."
      ]
    },
    {
      "cell_type": "code",
      "source": [
        "# Ejercicio 1: Hacer un algoritmo en python que convierta de grados Celsius a Kelvin y viceversa, usando funciones de usuario y lambda."
      ],
      "metadata": {
        "id": "foxiL_9fHCX4"
      },
      "execution_count": null,
      "outputs": []
    },
    {
      "cell_type": "code",
      "source": [
        "# Celsius a Kelvin\n",
        "c = 29\n",
        "def ConvertirCaK(c):\n",
        "  return c + 273.15"
      ],
      "metadata": {
        "id": "m3j_8XavGuPz"
      },
      "execution_count": null,
      "outputs": []
    },
    {
      "cell_type": "code",
      "source": [
        "print(\"Celsius a K: \", ConvertirCaK(c))"
      ],
      "metadata": {
        "colab": {
          "base_uri": "https://localhost:8080/"
        },
        "id": "Mv15ZR1HHJPg",
        "outputId": "4d20d755-d71c-494d-d392-ea02309a4583"
      },
      "execution_count": null,
      "outputs": [
        {
          "output_type": "stream",
          "name": "stdout",
          "text": [
            "Celsius a K:  302.15\n"
          ]
        }
      ]
    },
    {
      "cell_type": "code",
      "source": [
        "gradosCiudades2 = [29, 58, 36, 39, 50, 44]"
      ],
      "metadata": {
        "id": "NVVAPTxuHQNa"
      },
      "execution_count": null,
      "outputs": []
    },
    {
      "cell_type": "code",
      "source": [
        "print(gradosCiudades2, \"Respuesta: \", list(map(ConvertirCaK, gradosCiudades2)))"
      ],
      "metadata": {
        "colab": {
          "base_uri": "https://localhost:8080/"
        },
        "id": "irrcYlc1HUD4",
        "outputId": "dc895cd9-74d0-43f5-f80a-1d41bc6ccab2"
      },
      "execution_count": null,
      "outputs": [
        {
          "output_type": "stream",
          "name": "stdout",
          "text": [
            "[29, 58, 36, 39, 50, 44] Respuesta:  [302.15, 331.15, 309.15, 312.15, 323.15, 317.15]\n"
          ]
        }
      ]
    },
    {
      "cell_type": "code",
      "source": [
        "print(gradosCiudades2, \"Respuesta: \", list(map(lambda c: c + 273.15, gradosCiudades2)))"
      ],
      "metadata": {
        "colab": {
          "base_uri": "https://localhost:8080/"
        },
        "id": "4x8KV1KRHXVB",
        "outputId": "e282b3a5-9c06-41b6-c91f-79a92ea2d9fd"
      },
      "execution_count": null,
      "outputs": [
        {
          "output_type": "stream",
          "name": "stdout",
          "text": [
            "[29, 58, 36, 39, 50, 44] Respuesta:  [302.15, 331.15, 309.15, 312.15, 323.15, 317.15]\n"
          ]
        }
      ]
    },
    {
      "cell_type": "code",
      "source": [
        "gradosC = lambda C:C + 273.15\n",
        "grados = float(input(\"Ingrese un numero\"))\n",
        "print(\"Grados: \", gradosC(grados))"
      ],
      "metadata": {
        "colab": {
          "base_uri": "https://localhost:8080/"
        },
        "id": "0fTwTCJ8HbBx",
        "outputId": "397b15e6-0abf-4892-e8ef-566682c713ef"
      },
      "execution_count": null,
      "outputs": [
        {
          "output_type": "stream",
          "name": "stdout",
          "text": [
            "Ingrese un numero29\n",
            "Grados:  302.15\n"
          ]
        }
      ]
    },
    {
      "cell_type": "code",
      "source": [
        "# Kelvin a Celsius\n",
        "c = 302.15\n",
        "def ConvertirKaC(c):\n",
        "  return c - 273.15"
      ],
      "metadata": {
        "id": "5Q0lI_tQHeEq"
      },
      "execution_count": null,
      "outputs": []
    },
    {
      "cell_type": "code",
      "source": [
        "print(\"Kelvin a C: \", ConvertirKaC(c))"
      ],
      "metadata": {
        "colab": {
          "base_uri": "https://localhost:8080/"
        },
        "id": "8iZP3PxgHnsI",
        "outputId": "ff320675-4099-4085-eeec-4ddf6621ec45"
      },
      "execution_count": null,
      "outputs": [
        {
          "output_type": "stream",
          "name": "stdout",
          "text": [
            "Kelvin a C:  29.0\n"
          ]
        }
      ]
    },
    {
      "cell_type": "code",
      "source": [
        "gradosCiudades2 = [302.15, 331.15, 309.15, 312.15, 323.15, 317.15]\n",
        "print(gradosCiudades2, \"Respuesta: \", list(map(ConvertirKaC, gradosCiudades2)))"
      ],
      "metadata": {
        "colab": {
          "base_uri": "https://localhost:8080/"
        },
        "id": "UHWCKNCJHq_4",
        "outputId": "8c12212b-d470-4859-c646-abcecc507b55"
      },
      "execution_count": null,
      "outputs": [
        {
          "output_type": "stream",
          "name": "stdout",
          "text": [
            "[302.15, 331.15, 309.15, 312.15, 323.15, 317.15] Respuesta:  [29.0, 58.0, 36.0, 39.0, 50.0, 44.0]\n"
          ]
        }
      ]
    },
    {
      "cell_type": "code",
      "source": [
        "print(gradosCiudades2, \"Respuesta: \", list(map(lambda c: c - 273.15, gradosCiudades2)))"
      ],
      "metadata": {
        "colab": {
          "base_uri": "https://localhost:8080/"
        },
        "id": "nIfwSCpZH3lA",
        "outputId": "c0eb79ae-612d-4994-b261-dc907339f3b5"
      },
      "execution_count": null,
      "outputs": [
        {
          "output_type": "stream",
          "name": "stdout",
          "text": [
            "[302.15, 331.15, 309.15, 312.15, 323.15, 317.15] Respuesta:  [29.0, 58.0, 36.0, 39.0, 50.0, 44.0]\n"
          ]
        }
      ]
    },
    {
      "cell_type": "code",
      "source": [
        "gradosK = lambda K:K - 273.15\n",
        "grados = float(input(\"Ingrese un numero\"))\n",
        "print(\"Grados: \", gradosK(grados))"
      ],
      "metadata": {
        "colab": {
          "base_uri": "https://localhost:8080/"
        },
        "id": "hdEGfH0EH7OY",
        "outputId": "fa2c4c12-2007-419b-baab-3cb86a7a26d2"
      },
      "execution_count": null,
      "outputs": [
        {
          "output_type": "stream",
          "name": "stdout",
          "text": [
            "Ingrese un numero323.15\n",
            "Grados:  50.0\n"
          ]
        }
      ]
    },
    {
      "cell_type": "code",
      "source": [
        "# Ejercicio 2: Hacer un algoritmo en python que encuentre la Nota Final de Ciclo de una Materia en Particular usando funciones de usuario y lambda."
      ],
      "metadata": {
        "id": "fOvmdQ7DID6h"
      },
      "execution_count": null,
      "outputs": []
    },
    {
      "cell_type": "code",
      "source": [
        "notasElectronica = [\n",
        "    [9, 7, 10], #C1\n",
        "    [10, 8, 9], #C2\n",
        "    [7, 9, 9], #C3\n",
        "]\n",
        "print(notasElectronica)"
      ],
      "metadata": {
        "colab": {
          "base_uri": "https://localhost:8080/"
        },
        "id": "0DQxXJMdIGr6",
        "outputId": "2224ce96-e5b8-4c3c-c67b-178f8812d935"
      },
      "execution_count": null,
      "outputs": [
        {
          "output_type": "stream",
          "name": "stdout",
          "text": [
            "[[9, 7, 10], [10, 8, 9], [7, 9, 9]]\n"
          ]
        }
      ]
    },
    {
      "cell_type": "code",
      "source": [
        "# Notas C1\n",
        "Lab1 = float(input(\"Ingrese la primer nota: \"))\n",
        "Lab2 = float(input(\"Ingrese la segunda nota: \"))\n",
        "parcial = float(input(\"Ingrese nota Parcial: \"))\n",
        "C1 = (Lab1 + Lab2 + parcial)/3\n",
        "print(\"Su nota final es: \", C1)\n"
      ],
      "metadata": {
        "colab": {
          "base_uri": "https://localhost:8080/"
        },
        "id": "_mNPjzqdIJ-6",
        "outputId": "dfe8616d-042d-41f4-f0b6-3c35d1d43edf"
      },
      "execution_count": null,
      "outputs": [
        {
          "output_type": "stream",
          "name": "stdout",
          "text": [
            "Ingrese la primer nota: 9\n",
            "Ingrese la segunda nota: 7\n",
            "Ingrese nota Parcial: 10\n",
            "Su nota final es:  8.666666666666666\n"
          ]
        }
      ]
    },
    {
      "cell_type": "code",
      "source": [
        "# Notas C2\n",
        "Lab1 = float(input(\"Ingrese la primer nota: \"))\n",
        "Lab2 = float(input(\"Ingrese la segunda nota: \"))\n",
        "parcial = float(input(\"Ingrese nota Parcial: \"))\n",
        "C2 = (Lab1 + Lab2 + parcial)/3\n",
        "print(\"Su nota final es: \", C2)"
      ],
      "metadata": {
        "colab": {
          "base_uri": "https://localhost:8080/"
        },
        "id": "U4PacObHIR5I",
        "outputId": "652fe0c7-fa40-4233-ddb7-660f3d9ea666"
      },
      "execution_count": null,
      "outputs": [
        {
          "output_type": "stream",
          "name": "stdout",
          "text": [
            "Ingrese la primer nota: 10\n",
            "Ingrese la segunda nota: 8\n",
            "Ingrese nota Parcial: 9\n",
            "Su nota final es:  9.0\n"
          ]
        }
      ]
    },
    {
      "cell_type": "code",
      "source": [
        "# Notas C3\n",
        "Lab1 = float(input(\"Ingrese la primer nota: \"))\n",
        "Lab2 = float(input(\"Ingrese la segunda nota: \"))\n",
        "parcial = float(input(\"Ingrese nota Parcial: \"))\n",
        "C3 = (Lab1 + Lab2 + parcial)/3\n",
        "print(\"Su nota final es: \", C3)"
      ],
      "metadata": {
        "colab": {
          "base_uri": "https://localhost:8080/"
        },
        "id": "bKlQbfx6IU04",
        "outputId": "53f31d0c-d443-49bd-b666-81c4a682fdbd"
      },
      "execution_count": null,
      "outputs": [
        {
          "output_type": "stream",
          "name": "stdout",
          "text": [
            "Ingrese la primer nota: 7\n",
            "Ingrese la segunda nota: 9\n",
            "Ingrese nota Parcial: 9\n",
            "Su nota final es:  8.333333333333334\n"
          ]
        }
      ]
    },
    {
      "cell_type": "code",
      "source": [
        "PromFinal = (C1+C2+C3)/3\n",
        "\n",
        "print(\"Su nota final del Ciclo 1 en Electronica es: \", PromFinal)"
      ],
      "metadata": {
        "colab": {
          "base_uri": "https://localhost:8080/"
        },
        "id": "70jI4o30Iy0P",
        "outputId": "4616ac48-fb15-46df-c1df-cd89ff99a532"
      },
      "execution_count": null,
      "outputs": [
        {
          "output_type": "stream",
          "name": "stdout",
          "text": [
            "Su nota final del Ciclo 1 en Electronica es:  8.666666666666666\n"
          ]
        }
      ]
    },
    {
      "cell_type": "code",
      "source": [
        "# Tarea 2. Semana 5"
      ],
      "metadata": {
        "id": "gW7NiQ3qI2rX"
      },
      "execution_count": null,
      "outputs": []
    },
    {
      "cell_type": "code",
      "source": [
        "# Ejercicio 1: Calcular sobre el sueldo las deducciones por ley ISSS (3%), AFP (6.25%), ISR (segun tabla) e imprima el total de deduccines y sueldo neto. (20%)"
      ],
      "metadata": {
        "id": "3tRZXpSxI3q2"
      },
      "execution_count": null,
      "outputs": []
    },
    {
      "cell_type": "code",
      "source": [
        "sueldo = float(input(\"Ingrese su sueldo\"))\n",
        "descuentoISSS = float(input(\"Ingrese descuento ISSS: \"))\n",
        "descuentoAFP = float(input(\"Ingrese descuento AFP: \"))\n",
        "descuentoISR = float(input(\"Ingrese descuento ISR: \"))\n",
        "SueldoNeto = (sueldo - descuentoISSS - descuentoAFP - descuentoISR)\n",
        "print(\"Su sueldo final es: \", SueldoNeto)"
      ],
      "metadata": {
        "colab": {
          "base_uri": "https://localhost:8080/"
        },
        "id": "N3jTRIAdI8vu",
        "outputId": "9b48b1de-3c03-426e-b094-2c17d9ce427a"
      },
      "execution_count": null,
      "outputs": [
        {
          "output_type": "stream",
          "name": "stdout",
          "text": [
            "Ingrese su sueldo450\n",
            "Ingrese descuento ISSS: 12.50\n",
            "Ingrese descuento AFP: 32\n",
            "Ingrese descuento ISR: 0.00\n",
            "Su sueldo final es:  405.5\n"
          ]
        }
      ]
    },
    {
      "cell_type": "code",
      "source": [
        "def impuestos(salario):\n",
        "  return (salario) * 0.03 + (salario) * 0.0625"
      ],
      "metadata": {
        "id": "ZZKxUgCfJIaJ"
      },
      "execution_count": null,
      "outputs": []
    },
    {
      "cell_type": "code",
      "source": [
        "def calculosalario(salario):\n",
        "  return (salario) - impuestos(salario)"
      ],
      "metadata": {
        "id": "xQ0OPjsfJQ_W"
      },
      "execution_count": null,
      "outputs": []
    },
    {
      "cell_type": "code",
      "source": [
        "def impuestos1 (salario):\n",
        "  return (calculosalario (salario) - 472.00) * 0.10 + 17.67"
      ],
      "metadata": {
        "id": "c1jxxiafJT9F"
      },
      "execution_count": null,
      "outputs": []
    },
    {
      "cell_type": "code",
      "source": [
        "def impuestos2 (salario):\n",
        "  return (calculosalario (salario) - 895.24) * 0.20 + 60"
      ],
      "metadata": {
        "id": "N54hHPvqJUOo"
      },
      "execution_count": null,
      "outputs": []
    },
    {
      "cell_type": "code",
      "source": [
        "def impuestos3 (salario):\n",
        "  return (calculosalario (salario) - 2038.10) * 0.30 + 288.57"
      ],
      "metadata": {
        "id": "_ljpBA9qJUlf"
      },
      "execution_count": null,
      "outputs": []
    },
    {
      "cell_type": "code",
      "source": [
        "salario = float(input(\"Ingrese la cantidad de su salario: \"))"
      ],
      "metadata": {
        "colab": {
          "base_uri": "https://localhost:8080/"
        },
        "id": "YGwG0yD4JbAu",
        "outputId": "9c36574d-c158-4606-ea20-632f36f4d32f"
      },
      "execution_count": null,
      "outputs": [
        {
          "name": "stdout",
          "output_type": "stream",
          "text": [
            "Ingrese la cantidad de su salario: 365\n"
          ]
        }
      ]
    },
    {
      "cell_type": "code",
      "source": [
        "print(\"Su salario es de: \", calculosalario(salario))"
      ],
      "metadata": {
        "colab": {
          "base_uri": "https://localhost:8080/"
        },
        "id": "8X4eTkgcJbe-",
        "outputId": "5e0a5c68-dd8b-482a-ae67-0f91c64d15b8"
      },
      "execution_count": null,
      "outputs": [
        {
          "output_type": "stream",
          "name": "stdout",
          "text": [
            "Su salario es de:  331.2375\n"
          ]
        }
      ]
    },
    {
      "cell_type": "code",
      "source": [
        "if salario <= 472 :\n",
        "  print(\"Lamentablemente usted no aplica a ISR \")"
      ],
      "metadata": {
        "colab": {
          "base_uri": "https://localhost:8080/"
        },
        "id": "aCt20AtfJU4H",
        "outputId": "9aab594c-cb8d-4766-d1e4-c6899078de2c"
      },
      "execution_count": null,
      "outputs": [
        {
          "output_type": "stream",
          "name": "stdout",
          "text": [
            "Lamentablemente usted no aplica a ISR \n"
          ]
        }
      ]
    },
    {
      "cell_type": "code",
      "source": [
        "if salario >= 472.01  and salario <= 895.24: \n",
        "   print(\"Su retencion de impuesto sobre la renta en su salario: \",calculosalario(salario),\"es de :\",impuestos1(salario))"
      ],
      "metadata": {
        "id": "gerIW0C2JVNu"
      },
      "execution_count": null,
      "outputs": []
    },
    {
      "cell_type": "code",
      "source": [
        "if salario >= 895.25 and salario <= 2038.10:\n",
        "  print(\"Su retención de impuesto sobre la renta en su salario de: \", calculosalario(salario), \"es de: \", impuestos2(salario))"
      ],
      "metadata": {
        "id": "B3y8x1TLJjKK"
      },
      "execution_count": null,
      "outputs": []
    },
    {
      "cell_type": "code",
      "source": [
        "if salario >= 2038.10:\n",
        "  print(\"Su retención de impuesto sobre la renta en su salario de: \", calculosalario(salario), \"es de: \", impuestos3(salario))"
      ],
      "metadata": {
        "id": "gEUKyTvaJjiO"
      },
      "execution_count": null,
      "outputs": []
    },
    {
      "cell_type": "code",
      "source": [
        "# Ejercicio 2: Calcular el  valor a pagar segun el numero de metros consumidos de agua potable"
      ],
      "metadata": {
        "id": "FFHtC8F9Jjxf"
      },
      "execution_count": null,
      "outputs": []
    },
    {
      "cell_type": "code",
      "source": [
        "precio = 6"
      ],
      "metadata": {
        "id": "ZM-_Evffa5cf"
      },
      "execution_count": 67,
      "outputs": []
    },
    {
      "cell_type": "code",
      "source": [
        "metros = int(input(\"Digite la cantidad de metros consmidos: \"))\n",
        "if(metros<18):\n",
        "  print(\"Total por pagar: \", precio)\n",
        "elif(metros<28):\n",
        "    print(\"Total por pagar: \", 3.15 + precio)\n",
        "elif(metros<40):\n",
        "  print(\"Total por pagar: \", 11 + precio)\n",
        "else:\n",
        "  print(\"Máximo de metros a consumir es 40\")"
      ],
      "metadata": {
        "colab": {
          "base_uri": "https://localhost:8080/"
        },
        "id": "958DeVdja6C_",
        "outputId": "bf239732-267b-47a0-830a-484d526c8638"
      },
      "execution_count": 77,
      "outputs": [
        {
          "output_type": "stream",
          "name": "stdout",
          "text": [
            "Digite la cantidad de metros consmidos: 8\n",
            "Total por pagar:  6\n"
          ]
        }
      ]
    },
    {
      "cell_type": "code",
      "source": [
        "# Ejercicio 3: Desarrolle la tabla de meses acumulados a n meses. Si puede encontrar la formula matematica para evitar ciclos (10%)."
      ],
      "metadata": {
        "id": "3jLUaF2CJkOf"
      },
      "execution_count": null,
      "outputs": []
    },
    {
      "cell_type": "code",
      "source": [
        "print(\"Ingrese cantidad que desea imprimir para lo acumulado\")\n",
        "a = int(input())\n",
        "b = 0"
      ],
      "metadata": {
        "colab": {
          "base_uri": "https://localhost:8080/"
        },
        "id": "dw0Oay_MJkgp",
        "outputId": "33d2f64c-8178-4d45-973f-dc9cea6d2413"
      },
      "execution_count": null,
      "outputs": [
        {
          "name": "stdout",
          "output_type": "stream",
          "text": [
            "Ingrese cantidad que desea imprimir para lo acumulado\n",
            "7\n"
          ]
        }
      ]
    },
    {
      "cell_type": "code",
      "source": [
        "for i in range(1, a + 1):\n",
        "  print(i)\n",
        "  b = b + 1\n",
        "  print(\"La lista de valores acumulados que solicita es: \", b)"
      ],
      "metadata": {
        "colab": {
          "base_uri": "https://localhost:8080/"
        },
        "id": "_m_VLk4vJk0u",
        "outputId": "c656a23f-225c-4ada-9e28-5f22cebc5751"
      },
      "execution_count": null,
      "outputs": [
        {
          "output_type": "stream",
          "name": "stdout",
          "text": [
            "1\n",
            "La lista de valores acumulados que solicita es:  1\n",
            "2\n",
            "La lista de valores acumulados que solicita es:  2\n",
            "3\n",
            "La lista de valores acumulados que solicita es:  3\n",
            "4\n",
            "La lista de valores acumulados que solicita es:  4\n",
            "5\n",
            "La lista de valores acumulados que solicita es:  5\n",
            "6\n",
            "La lista de valores acumulados que solicita es:  6\n",
            "7\n",
            "La lista de valores acumulados que solicita es:  7\n"
          ]
        }
      ]
    },
    {
      "cell_type": "code",
      "source": [
        "# Ejercicio 4: Conversores: (40%) (10 ítems como mínimo por cada uno) • Monedas (Resuelto en clases) • Longitud • Masa • Almacenamiento • Tiempo • Volumen • Área"
      ],
      "metadata": {
        "id": "7mGGnRyqKB9t"
      },
      "execution_count": null,
      "outputs": []
    },
    {
      "cell_type": "code",
      "source": [
        "# Monedas"
      ],
      "metadata": {
        "id": "kj4eqtFzKFla"
      },
      "execution_count": null,
      "outputs": []
    },
    {
      "cell_type": "code",
      "source": [
        "divisas = [\"Seleccione una divisa\", \"Dolares\", \n",
        "           \"Quetzalez\", \"Lempiras\", \"Cordobas\", \n",
        "           \"Pesos CR\", \"Euros\", \"Colon SV\", \n",
        "           \"Yenes\", \"Soles Peruanos\"\n",
        "]\n",
        "valores = [0,1, 7.71, 24.51, 35.77, 664.64, 0.98, 8.75, 134.13, 3.84]"
      ],
      "metadata": {
        "id": "kgex9mkKKHsN"
      },
      "execution_count": null,
      "outputs": []
    },
    {
      "cell_type": "code",
      "source": [
        "def convertir(de, a, cantidad):\n",
        "  return valores [a] / valores [de] * cantidad"
      ],
      "metadata": {
        "id": "3Rvk4suuKHpU"
      },
      "execution_count": null,
      "outputs": []
    },
    {
      "cell_type": "code",
      "source": [
        "print(\"*** MENU ***\")\n",
        "print(\"SELECCIONE UNA DIVISA\")\n",
        "print(\"1. Dolares\")\n",
        "print(\"2. Quetzalez\")\n",
        "print(\"3. Lempiras\")\n",
        "print(\"4. Cordobas\")\n",
        "print(\"5. Pesos CR\")\n",
        "print(\"6. Euros\")\n",
        "print(\"7. Colon SV\")\n",
        "print(\"8. Yenes\")\n",
        "print(\"9. Soles Peruanos\")"
      ],
      "metadata": {
        "colab": {
          "base_uri": "https://localhost:8080/"
        },
        "id": "PVWrwU_1KHnk",
        "outputId": "df5a293f-61a0-42dc-96fa-a86ab75cd0fa"
      },
      "execution_count": null,
      "outputs": [
        {
          "output_type": "stream",
          "name": "stdout",
          "text": [
            "*** MENU ***\n",
            "SELECCIONE UNA DIVISA\n",
            "1. Dolares\n",
            "2. Quetzalez\n",
            "3. Lempiras\n",
            "4. Cordobas\n",
            "5. Pesos CR\n",
            "6. Euros\n",
            "7. Colon SV\n",
            "8. Yenes\n",
            "9. Soles Peruanos\n"
          ]
        }
      ]
    },
    {
      "cell_type": "code",
      "source": [
        "de = int(input(\"DE: \"))\n",
        "a = int(input(\"A: \"))\n",
        "cantidad = float(input(\"Cantidad: \"))\n",
        "\n",
        "print( divisas[de],  \" a \", divisas[a], \" es: \", convertir(de, a, cantidad) )"
      ],
      "metadata": {
        "colab": {
          "base_uri": "https://localhost:8080/"
        },
        "id": "SxVtfuBqKHlE",
        "outputId": "47471a1b-6f8f-4d7e-f711-a04d236ff746"
      },
      "execution_count": null,
      "outputs": [
        {
          "output_type": "stream",
          "name": "stdout",
          "text": [
            "DE: 5\n",
            "A: 2\n",
            "Cantidad: 35\n",
            "Pesos CR  a  Quetzalez  es:  0.40600926817525274\n"
          ]
        }
      ]
    },
    {
      "cell_type": "code",
      "source": [
        "# Longitud"
      ],
      "metadata": {
        "id": "xyCeVeRcKHjG"
      },
      "execution_count": null,
      "outputs": []
    },
    {
      "cell_type": "code",
      "source": [
        "divisas = [\"Seleccione una divisa\", \"metro\", \n",
        "           \"kilometro\", \"centimetros\", \"milimetro\", \n",
        "           \"yarda\", \"pie\", \"pulgadas\", \n",
        "           \"milla\", \"Milla nautica\", 'nanometro',\n",
        "]\n",
        "valores = [0,1, 0.001, 100, 1000, 1.09361, 3.28084, 39.3701, 0.000621371,0.000539957,1e+9 ]"
      ],
      "metadata": {
        "id": "fWpMToQyKHg4"
      },
      "execution_count": null,
      "outputs": []
    },
    {
      "cell_type": "code",
      "source": [
        "def convertir(de, a, cantidad):\n",
        "  return valores [de] / valores [a] * cantidad"
      ],
      "metadata": {
        "id": "qw2SzcXxKHfI"
      },
      "execution_count": null,
      "outputs": []
    },
    {
      "cell_type": "code",
      "source": [
        "print(\"*** MENU ***\")\n",
        "print(\"SELECCIONE UNA DIVISA\")\n",
        "print(\"1. metro\")\n",
        "print(\"2. Kilometro\")\n",
        "print(\"3. centimetros\")\n",
        "print(\"4. Milimetro\")\n",
        "print(\"5. Yarda\")\n",
        "print(\"6. Pie\")\n",
        "print(\"7. pulgada\")\n",
        "print(\"8. Milla\")\n",
        "print(\"9. Milla nautica\")\n",
        "print(\"10. Nanometro\")"
      ],
      "metadata": {
        "colab": {
          "base_uri": "https://localhost:8080/"
        },
        "id": "w9je8ZFZKHc2",
        "outputId": "84fd8be5-5017-45ac-a076-3399163e9d04"
      },
      "execution_count": null,
      "outputs": [
        {
          "output_type": "stream",
          "name": "stdout",
          "text": [
            "*** MENU ***\n",
            "SELECCIONE UNA DIVISA\n",
            "1. metro\n",
            "2. Kilometro\n",
            "3. centimetros\n",
            "4. Milimetro\n",
            "5. Yarda\n",
            "6. Pie\n",
            "7. pulgada\n",
            "8. Milla\n",
            "9. Milla nautica\n",
            "10. Nanometro\n"
          ]
        }
      ]
    },
    {
      "cell_type": "code",
      "source": [
        "a = int(input(\"DE: \"))\n",
        "de = int(input(\"A: \"))\n",
        "cantidad = float(input(\"Cantidad: \"))\n",
        "\n",
        "print( divisas[a],  \" a \", divisas[de], \" es: \", convertir(de, a, cantidad) )\n"
      ],
      "metadata": {
        "colab": {
          "base_uri": "https://localhost:8080/"
        },
        "id": "c-Y9L38SKHZ-",
        "outputId": "c69196ae-94c8-4d3d-fa64-029175dca4d9"
      },
      "execution_count": null,
      "outputs": [
        {
          "output_type": "stream",
          "name": "stdout",
          "text": [
            "DE: 6\n",
            "A: 10\n",
            "Cantidad: 20\n",
            "pie  a  nanometro  es:  6095999804.928006\n"
          ]
        }
      ]
    },
    {
      "cell_type": "code",
      "source": [
        "# Masa"
      ],
      "metadata": {
        "id": "7_QmnmfnKHX6"
      },
      "execution_count": null,
      "outputs": []
    },
    {
      "cell_type": "code",
      "source": [
        "divisas = [\"Seleccione una divisa\", \"Tonelada\", \n",
        "           \"Kilogramo\", \"Gramo\", \"Miligramo\", \n",
        "           \"Microgramo\", \"Tonelada larga\", \"Tonela corta\", \n",
        "           \"Stone\", \"Libra\", 'Onza',\n",
        "\n",
        "]\n",
        "valores = [0,1, 1000, 1e+6, 1e+9, 1e+12, 0.984207, 1.10231, 157.473, 2204.62, 35274 ]"
      ],
      "metadata": {
        "id": "CTi212qGKHWB"
      },
      "execution_count": null,
      "outputs": []
    },
    {
      "cell_type": "code",
      "source": [
        "def convertir(de, a, cantidad):\n",
        "  return valores [de] / valores [a] * cantidad"
      ],
      "metadata": {
        "id": "a0LvL653KHTt"
      },
      "execution_count": null,
      "outputs": []
    },
    {
      "cell_type": "code",
      "source": [
        "print(\"*** MENU ***\")\n",
        "print(\"SELECCIONE UNA DIVISA\")\n",
        "print(\"1. Tonelada\")\n",
        "print(\"2. Kilogramo\")\n",
        "print(\"3. Gramo\")\n",
        "print(\"4. Miligramo\")\n",
        "print(\"5. Micrograma\")\n",
        "print(\"6. Tonelada larga\")\n",
        "print(\"7. Tonelada corta\")\n",
        "print(\"8. Stone\")\n",
        "print(\"9. Libra\")\n",
        "print(\"10. Onza\")"
      ],
      "metadata": {
        "colab": {
          "base_uri": "https://localhost:8080/"
        },
        "id": "c6VxebjMKHRl",
        "outputId": "91e893ab-8f75-46b4-9d57-f7a223d3e29c"
      },
      "execution_count": null,
      "outputs": [
        {
          "output_type": "stream",
          "name": "stdout",
          "text": [
            "*** MENU ***\n",
            "SELECCIONE UNA DIVISA\n",
            "1. Tonelada\n",
            "2. Kilogramo\n",
            "3. Gramo\n",
            "4. Miligramo\n",
            "5. Micrograma\n",
            "6. Tonelada larga\n",
            "7. Tonelada corta\n",
            "8. Stone\n",
            "9. Libra\n",
            "10. Onza\n"
          ]
        }
      ]
    },
    {
      "cell_type": "code",
      "source": [
        "a = int(input(\"DE: \"))\n",
        "de = int(input(\"A: \"))\n",
        "cantidad = float(input(\"Cantidad: \"))\n",
        "print( divisas[a],  \" a \", divisas[de], \" es: \", convertir(de, a, cantidad) )"
      ],
      "metadata": {
        "colab": {
          "base_uri": "https://localhost:8080/"
        },
        "id": "f6kKcZhAKHPE",
        "outputId": "8b595e14-b09f-475d-8844-09f4c2eab937"
      },
      "execution_count": null,
      "outputs": [
        {
          "output_type": "stream",
          "name": "stdout",
          "text": [
            "DE: 1\n",
            "A: 7\n",
            "Cantidad: 10\n",
            "Tonelada  a  Tonela corta  es:  11.0231\n"
          ]
        }
      ]
    },
    {
      "cell_type": "code",
      "source": [
        "# Almacenamiento"
      ],
      "metadata": {
        "id": "PPNmOAhSKHM2"
      },
      "execution_count": null,
      "outputs": []
    },
    {
      "cell_type": "code",
      "source": [
        "divisas = [\"Seleccione una divisa\", \" Terabit\", \n",
        "           \"Mebibit\", \"Gibibit\", \"Gigabit\", \n",
        "           \"tebibit\", \"Petabyte\", \"Mebibyte\", \n",
        "           \"Megabyte\", \"Gigabyte\", 'Terabyte',\n",
        "]\n",
        "valores = [0,1, 953700, 931.3, 1000, 1.1, 8000, 119200, 125000,125,0.125 ]"
      ],
      "metadata": {
        "id": "7u-duLFiKHJj"
      },
      "execution_count": null,
      "outputs": []
    },
    {
      "cell_type": "code",
      "source": [
        "def convertir(de, a, cantidad):\n",
        "  return valores [de] / valores [a] * cantidad"
      ],
      "metadata": {
        "id": "dU7E7HWeKHDG"
      },
      "execution_count": null,
      "outputs": []
    },
    {
      "cell_type": "code",
      "source": [
        "print(\"*** MENU ***\")\n",
        "print(\"SELECCIONE UNA DIVISA\")\n",
        "print(\"1. Terabit\")\n",
        "print(\"2. Mebibit\")\n",
        "print(\"3. Gibibit\")\n",
        "print(\"4. Gigabit\")\n",
        "print(\"5. Tebibit\")\n",
        "print(\"6. Petabyte\")\n",
        "print(\"7. Mebibyte\")\n",
        "print(\"8. Megabyte\")\n",
        "print(\"9. Gygabyte\")\n",
        "print(\"10.Terabyte\")"
      ],
      "metadata": {
        "colab": {
          "base_uri": "https://localhost:8080/"
        },
        "id": "Yphmmf0JKHAW",
        "outputId": "6f2903e5-29be-492d-fde1-8767220939aa"
      },
      "execution_count": null,
      "outputs": [
        {
          "output_type": "stream",
          "name": "stdout",
          "text": [
            "*** MENU ***\n",
            "SELECCIONE UNA DIVISA\n",
            "1. Terabit\n",
            "2. Mebibit\n",
            "3. Gibibit\n",
            "4. Gigabit\n",
            "5. Tebibit\n",
            "6. Petabyte\n",
            "7. Mebibyte\n",
            "8. Megabyte\n",
            "9. Gygabyte\n",
            "10.Terabyte\n"
          ]
        }
      ]
    },
    {
      "cell_type": "code",
      "source": [
        "a = int(input(\"DE: \"))\n",
        "de = int(input(\"A: \"))\n",
        "cantidad = float(input(\"Cantidad: \"))\n",
        "\n",
        "print( divisas[a],  \" a \", divisas[de], \" es: \", convertir(de, a, cantidad) )"
      ],
      "metadata": {
        "colab": {
          "base_uri": "https://localhost:8080/"
        },
        "id": "mMQMXrMDKG54",
        "outputId": "abf3df0f-ee06-4031-c7e9-f5e49f4206a3"
      },
      "execution_count": null,
      "outputs": [
        {
          "output_type": "stream",
          "name": "stdout",
          "text": [
            "DE: 4\n",
            "A: 9\n",
            "Cantidad: 25\n",
            "Gigabit  a  Gigabyte  es:  3.125\n"
          ]
        }
      ]
    },
    {
      "cell_type": "code",
      "source": [
        "# Tiempo"
      ],
      "metadata": {
        "id": "LhcKESOTLSS7"
      },
      "execution_count": null,
      "outputs": []
    },
    {
      "cell_type": "code",
      "source": [
        "divisas = [\"Seleccione una divisa\", \" Segundo\", \n",
        "           \"Milisegundo\", \"Minuto\", \"Hora\", \n",
        "           \"Dia\", \"Semana\", \"Mes\", \n",
        "           \"Año\", \"Decada\", 'Siglo',\n",
        "]\n",
        "valores = [0,1, 1000, 0.0166667, 0.000277778,1.1574e-5, 1.6534e-6, 3.8052e-7, 3.171e-8,3.171e-9,3.171e-10 ]"
      ],
      "metadata": {
        "id": "7sEftKgWLSG0"
      },
      "execution_count": null,
      "outputs": []
    },
    {
      "cell_type": "code",
      "source": [
        "def convertir(de, a, cantidad):\n",
        "  return valores [de] / valores [a] * cantidad"
      ],
      "metadata": {
        "id": "VmowQxCeLSEC"
      },
      "execution_count": null,
      "outputs": []
    },
    {
      "cell_type": "code",
      "source": [
        "print(\"*** MENU ***\")\n",
        "print(\"SELECCIONE UNA DIVISA\")\n",
        "print(\"1. Segundo\")\n",
        "print(\"2. Milesegundo\")\n",
        "print(\"3. Minuto\")\n",
        "print(\"4. Hora\")\n",
        "print(\"5. Dia\")\n",
        "print(\"6. Semana\")\n",
        "print(\"7. Mes\")\n",
        "print(\"8. Año\")\n",
        "print(\"9. Decada\")\n",
        "print(\"10.Siglo\")"
      ],
      "metadata": {
        "colab": {
          "base_uri": "https://localhost:8080/"
        },
        "id": "enaaufrgLSBF",
        "outputId": "6768342c-28de-4bd4-fa26-91422283a10b"
      },
      "execution_count": null,
      "outputs": [
        {
          "output_type": "stream",
          "name": "stdout",
          "text": [
            "*** MENU ***\n",
            "SELECCIONE UNA DIVISA\n",
            "1. Segundo\n",
            "2. Milesegundo\n",
            "3. Minuto\n",
            "4. Hora\n",
            "5. Dia\n",
            "6. Semana\n",
            "7. Mes\n",
            "8. Año\n",
            "9. Decada\n",
            "10.Siglo\n"
          ]
        }
      ]
    },
    {
      "cell_type": "code",
      "source": [
        "a = int(input(\"DE: \"))\n",
        "de = int(input(\"A: \"))\n",
        "cantidad = float(input(\"Cantidad: \"))\n",
        "\n",
        "print( divisas[a],  \" a \", divisas[de], \" es: \", convertir(de, a, cantidad) )"
      ],
      "metadata": {
        "colab": {
          "base_uri": "https://localhost:8080/"
        },
        "id": "dqmu9wZaLR7r",
        "outputId": "e941a4e0-0d24-4698-a7ba-cb6dca142f13"
      },
      "execution_count": null,
      "outputs": [
        {
          "output_type": "stream",
          "name": "stdout",
          "text": [
            "DE: 10\n",
            "A: 8\n",
            "Cantidad: 2\n",
            "Siglo  a  Año  es:  199.99999999999997\n"
          ]
        }
      ]
    },
    {
      "cell_type": "code",
      "source": [
        "# Volumen"
      ],
      "metadata": {
        "id": "nseV1h43KGxG"
      },
      "execution_count": null,
      "outputs": []
    },
    {
      "cell_type": "code",
      "source": [
        "divisas = [\"Seleccione una divisa\", \"Litro\", \n",
        "           \"Mililitro\", \"Galón\", \"Cuarto\", \n",
        "           \"Pinta\", \"Taza\", \"Onza líquida\", \n",
        "           \"Cucharada\", \"Cucharadita\", 'Pie cúbico',\n",
        "]\n",
        "valores = [0,1, 1000, 0.219969, 0.879877, 1.75975, 3.51951, 35.1951, 56.3121, 168.936, 0.0353147 ]"
      ],
      "metadata": {
        "id": "irsqfEdtKGmO"
      },
      "execution_count": null,
      "outputs": []
    },
    {
      "cell_type": "code",
      "source": [
        "def convertir(de, a, cantidad):\n",
        "  return valores [de] / valores [a] * cantidad"
      ],
      "metadata": {
        "id": "IEdNy_ZnL_XX"
      },
      "execution_count": null,
      "outputs": []
    },
    {
      "cell_type": "code",
      "source": [
        "print(\"*** MENU ***\")\n",
        "print(\"SELECCIONE UNA DIVISA\")\n",
        "print(\"1. Litro\")\n",
        "print(\"2. Mililitro\")\n",
        "print(\"3. Galón\")\n",
        "print(\"4. Cuarto\")\n",
        "print(\"5. Pinta\")\n",
        "print(\"6. Taza\")\n",
        "print(\"7. Onza liquida\")\n",
        "print(\"8. Cucharada\")\n",
        "print(\"9. Cucharadita\")\n",
        "print(\"10. Pie cúbico\")"
      ],
      "metadata": {
        "colab": {
          "base_uri": "https://localhost:8080/"
        },
        "id": "rET01dG2L_Vj",
        "outputId": "bb0ece3d-5deb-4eb3-9c50-1810f9cc3d82"
      },
      "execution_count": null,
      "outputs": [
        {
          "output_type": "stream",
          "name": "stdout",
          "text": [
            "*** MENU ***\n",
            "SELECCIONE UNA DIVISA\n",
            "1. Litro\n",
            "2. Mililitro\n",
            "3. Galón\n",
            "4. Cuarto\n",
            "5. Pinta\n",
            "6. Taza\n",
            "7. Onza liquida\n",
            "8. Cucharada\n",
            "9. Cucharadita\n",
            "10. Pie cúbico\n"
          ]
        }
      ]
    },
    {
      "cell_type": "code",
      "source": [
        "a = int(input(\"DE: \"))\n",
        "de = int(input(\"A: \"))\n",
        "cantidad = float(input(\"Cantidad: \"))\n",
        "print( divisas[a],  \" a \", divisas[de], \" es: \", convertir(de, a, cantidad) )"
      ],
      "metadata": {
        "colab": {
          "base_uri": "https://localhost:8080/"
        },
        "id": "TqJh80LXL_TX",
        "outputId": "2d536336-a846-4fc1-e5d6-c95db29f3d12"
      },
      "execution_count": null,
      "outputs": [
        {
          "output_type": "stream",
          "name": "stdout",
          "text": [
            "DE: 1\n",
            "A: 8\n",
            "Cantidad: 10\n",
            "Litro  a  Cucharada  es:  563.121\n"
          ]
        }
      ]
    },
    {
      "cell_type": "code",
      "source": [
        "# Area"
      ],
      "metadata": {
        "id": "SSbrPiNnL_Q9"
      },
      "execution_count": null,
      "outputs": []
    },
    {
      "cell_type": "code",
      "source": [
        "divisas = [\"Seleccione una divisa\", \"Hectarea\", \n",
        "           \"Kilometro cuadrado\", \"Metro Cuadrado\", \"Milla cuadrada\", \n",
        "           \"Yarda cuadrada\", \"Pie cuadrado\", \"Pulgada cuadrada\", \n",
        "           \"Acre\",\n",
        "]\n",
        "valores = [0,1, 0.01, 10000, 0.00386102, 11959.9, 107639, 1.55e+7, 2.47105 ]"
      ],
      "metadata": {
        "id": "5Jf3zhErKGXV"
      },
      "execution_count": null,
      "outputs": []
    },
    {
      "cell_type": "code",
      "source": [
        "def convertir(de, a, cantidad):\n",
        "  return valores [de] / valores [a] * cantidad"
      ],
      "metadata": {
        "id": "yY1G9cbKMSgW"
      },
      "execution_count": null,
      "outputs": []
    },
    {
      "cell_type": "code",
      "source": [
        "print(\"*** MENU ***\")\n",
        "print(\"SELECCIONE UNA DIVISA\")\n",
        "print(\"1. Hectarea\")\n",
        "print(\"2. Kilometro cuadrado\")\n",
        "print(\"3. Metro cuadrado\")\n",
        "print(\"4. Milla cuadrada\")\n",
        "print(\"5. Yarda cuadrada\")\n",
        "print(\"6. Pie cuadrado\")\n",
        "print(\"7. Pulgada cuadrada\")\n",
        "print(\"8. Acre\")"
      ],
      "metadata": {
        "colab": {
          "base_uri": "https://localhost:8080/"
        },
        "id": "8f01RR8CMSe7",
        "outputId": "6f36d808-5abc-49bf-fe55-916f878e0d70"
      },
      "execution_count": null,
      "outputs": [
        {
          "output_type": "stream",
          "name": "stdout",
          "text": [
            "*** MENU ***\n",
            "SELECCIONE UNA DIVISA\n",
            "1. Hectarea\n",
            "2. Kilometro cuadrado\n",
            "3. Metro cuadrado\n",
            "4. Milla cuadrada\n",
            "5. Yarda cuadrada\n",
            "6. Pie cuadrado\n",
            "7. Pulgada cuadrada\n",
            "8. Acre\n"
          ]
        }
      ]
    },
    {
      "cell_type": "code",
      "source": [
        "a = int(input(\"DE: \"))\n",
        "de = int(input(\"A: \"))\n",
        "cantidad = float(input(\"Cantidad: \"))\n",
        "print( divisas[a],  \" a \", divisas[de], \" es: \", convertir(de, a, cantidad) )"
      ],
      "metadata": {
        "colab": {
          "base_uri": "https://localhost:8080/"
        },
        "id": "9nyXMAQsMSbE",
        "outputId": "e329dbbe-c284-4c6a-ba1d-16d8e99da558"
      },
      "execution_count": null,
      "outputs": [
        {
          "output_type": "stream",
          "name": "stdout",
          "text": [
            "DE: 1\n",
            "A: 8\n",
            "Cantidad: 5\n",
            "Hectarea  a  Acre  es:  12.35525\n"
          ]
        }
      ]
    },
    {
      "cell_type": "code",
      "source": [],
      "metadata": {
        "id": "jXQ0ZStuMSXh"
      },
      "execution_count": null,
      "outputs": []
    }
  ]
}